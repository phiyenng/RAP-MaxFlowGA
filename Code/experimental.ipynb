{
 "cells": [
  {
   "cell_type": "code",
   "execution_count": 1,
   "metadata": {},
   "outputs": [],
   "source": [
    "import algorithms as alg, networkx as nx"
   ]
  },
  {
   "cell_type": "code",
   "execution_count": 5,
   "metadata": {},
   "outputs": [],
   "source": [
    "capacity_matrix = [[0, 3, 16, 4, 17, 0, 0, 28, 10, 19, 0],\n",
    "                   [0, 0, 10, 0, 21, 0, 15, 0, 0, 0, 19],\n",
    "                   [0, 0, 0, 0, 0, 0, 0, 0, 0, 0, 16],\n",
    "                   [0, 0, 7, 0, 0, 0, 0, 0, 0, 0, 18],\n",
    "                   [0, 0, 0, 0, 0, 0, 0, 0, 5, 0, 5],\n",
    "                   [0, 0, 0, 0, 0, 0, 22, 0, 10, 0, 15],\n",
    "                   [0, 0, 0, 0, 0, 0, 0, 0, 0, 0, 11],\n",
    "                   [0, 0, 7, 0, 0, 0, 0, 0, 0, 0, 5],\n",
    "                   [0, 0, 0, 0, 0, 0, 0, 0, 0, 0, 46], #46\n",
    "                   [0, 0, 0, 0, 0, 6, 0, 0, 12, 0, 0],\n",
    "                   [0, 0, 0, 0, 0, 0, 0, 0, 0, 0, 0]]\n",
    "\n",
    "amount: int = 500\n",
    "max_iter: int = 500\n",
    "best_max_iter: int = 50\n",
    "mutation_rate = 0.05\n",
    "total_fit: float\n",
    "population: list[alg.Individual]"
   ]
  },
  {
   "cell_type": "code",
   "execution_count": 14,
   "metadata": {},
   "outputs": [],
   "source": [
    "result = alg.max_flow_GA(capacity_matrix, 1, pop_size=amount, mutation_rate=mutation_rate,\n",
    "                        max_iter=max_iter, best_max_iter=best_max_iter, selection_method='fuss',\n",
    "                        update_procedure = None)"
   ]
  },
  {
   "cell_type": "code",
   "execution_count": 15,
   "metadata": {},
   "outputs": [
    {
     "name": "stdout",
     "output_type": "stream",
     "text": [
      "66\n",
      "True\n",
      "[True, True, True, True, True, True, True, True, True, True, True]\n",
      "[0, 3, 12, 4, 10, 0, 0, 9, 10, 18, 0]\n",
      "[0, 0, 0, 0, 0, 0, 2, 0, 0, 0, 1]\n",
      "[0, 0, 0, 0, 0, 0, 0, 0, 0, 0, 16]\n",
      "[0, 0, 0, 0, 0, 0, 0, 0, 0, 0, 4]\n",
      "[0, 0, 0, 0, 0, 0, 0, 0, 5, 0, 5]\n",
      "[0, 0, 0, 0, 0, 0, 4, 0, 0, 0, 2]\n",
      "[0, 0, 0, 0, 0, 0, 0, 0, 0, 0, 6]\n",
      "[0, 0, 4, 0, 0, 0, 0, 0, 0, 0, 5]\n",
      "[0, 0, 0, 0, 0, 0, 0, 0, 0, 0, 27]\n",
      "[0, 0, 0, 0, 0, 6, 0, 0, 12, 0, 0]\n",
      "[0, 0, 0, 0, 0, 0, 0, 0, 0, 0, 0]\n",
      "\n",
      "66 155\n"
     ]
    }
   ],
   "source": [
    "t = result['best_of_all_gen'].CheckBalanced()\n",
    "print(alg.ford_fulkerson(capacity_matrix)[0])\n",
    "print(sum(t) == len(capacity_matrix))\n",
    "print(t)\n",
    "print(result['best_of_all_gen'])\n",
    "print(alg.col_sum(result['best_of_all_gen'].dna, -1), result['total_gen'])"
   ]
  }
 ],
 "metadata": {
  "kernelspec": {
   "display_name": "Python 3",
   "language": "python",
   "name": "python3"
  },
  "language_info": {
   "codemirror_mode": {
    "name": "ipython",
    "version": 3
   },
   "file_extension": ".py",
   "mimetype": "text/x-python",
   "name": "python",
   "nbconvert_exporter": "python",
   "pygments_lexer": "ipython3",
   "version": "3.12.1"
  }
 },
 "nbformat": 4,
 "nbformat_minor": 2
}
