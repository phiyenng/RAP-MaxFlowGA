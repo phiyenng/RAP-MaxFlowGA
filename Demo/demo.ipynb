{
 "cells": [
  {
   "cell_type": "code",
   "execution_count": null,
   "metadata": {},
   "outputs": [],
   "source": [
    "import networkx as nx, algorithms as alg\n",
    "from Individual import Individual"
   ]
  },
  {
   "cell_type": "code",
   "execution_count": null,
   "metadata": {},
   "outputs": [],
   "source": [
    "#Log and debug stuff\n",
    "import logging as lg\n",
    "myLog = lg.getLogger(__name__)\n",
    "lg.basicConfig(filename=\"D:\\\\!Projects\\\\Python\\\\!AI - Projects\\\\!Final\\\\main.log\",\n",
    "               level=lg.INFO)"
   ]
  },
  {
   "cell_type": "code",
   "execution_count": null,
   "metadata": {},
   "outputs": [],
   "source": [
    "main_node_pos: dict[int: tuple[int, int]] = {'s': (0, 0),\n",
    "1: (0.5, 0.5),\n",
    "2: (1, 0.5),\n",
    "3: (1.5, 0.5),\n",
    "4: (0.5, 0),\n",
    "5: (1, 0),\n",
    "6: (1.5, 0),\n",
    "7: (0.5, -0.5),\n",
    "8: (1, -0.5),\n",
    "9: (1.5, -0.5),\n",
    "'t': (2, 0)}\n",
    "\n",
    "\"Không chu kỳ\"\n",
    "# graph: dict[int: tuple[int]] = {'s': (1, 4, 7),\n",
    "#                                 1: (2, 5),\n",
    "#                                 2: (3,),\n",
    "#                                 3: ('t',),\n",
    "#                                 4: (1, 5),\n",
    "#                                 5: (3, 6, 9),\n",
    "#                                 6: (3, 't'),\n",
    "#                                 7: (4, 5, 8),\n",
    "#                                 8: (5, 9),\n",
    "#                                 9: (6, 't'),\n",
    "#                                 't': ()} # thêm 5->2, 2->4\n",
    "# capacity_matrix: list[list[int]] = [[0, 5, 0, 0, 4, 0, 0, 6, 0, 0, 0],\n",
    "#                                     [0, 0, 6, 0, 0, 3, 0, 0, 0, 0, 0],\n",
    "#                                     [0, 0, 0, 5, 0, 0, 0, 0, 0, 0, 0],\n",
    "#                                     [0, 0, 0, 0, 0, 0, 0, 0, 0, 0, 5],\n",
    "#                                     [0, 5, 0, 0, 0, 3, 0, 0, 0, 0, 0],\n",
    "#                                     [0, 0, 0, 2, 0, 0, 3, 0, 0, 5, 0],\n",
    "#                                     [0, 0, 0, 3, 0, 0, 0, 0, 0, 0, 5],\n",
    "#                                     [0, 0, 0, 0, 2, 2, 0, 0, 6, 0, 0],\n",
    "#                                     [0, 0, 0, 0, 0, 2, 0, 0, 0, 6, 0],\n",
    "#                                     [0, 0, 0, 0, 0, 0, 1, 0, 0, 0, 5],\n",
    "#                                     [0, 0, 0, 0, 0, 0, 0, 0, 0, 0, 0]]\n",
    "\n",
    "\"Có chu kỳ\"\n",
    "graph: dict[int: tuple[int]] = {'s': (1, 4, 7),\n",
    "                                1: (2, 5),\n",
    "                                2: (3, 4),\n",
    "                                3: ('t',),\n",
    "                                4: (1, 5),\n",
    "                                5: (2, 3, 6, 9),\n",
    "                                6: (3, 't'),\n",
    "                                7: (4, 5, 8),\n",
    "                                8: (5, 9),\n",
    "                                9: (6, 't'),\n",
    "                                't': ()}\n",
    "capacity_matrix: list[list[int]] = [[0, 5, 0, 0, 4, 0, 0, 6, 0, 0, 0],\n",
    "                                    [0, 0, 6, 0, 0, 3, 0, 0, 0, 0, 0],\n",
    "                                    [0, 0, 0, 5, 3, 0, 0, 0, 0, 0, 0],\n",
    "                                    [0, 0, 0, 0, 0, 0, 0, 0, 0, 0, 5],\n",
    "                                    [0, 5, 0, 0, 0, 3, 0, 0, 0, 0, 0],\n",
    "                                    [0, 0, 2, 2, 0, 0, 3, 0, 0, 5, 0],\n",
    "                                    [0, 0, 0, 3, 0, 0, 0, 0, 0, 0, 5],\n",
    "                                    [0, 0, 0, 0, 2, 2, 0, 0, 6, 0, 0],\n",
    "                                    [0, 0, 0, 0, 0, 2, 0, 0, 0, 6, 0],\n",
    "                                    [0, 0, 0, 0, 0, 0, 1, 0, 0, 0, 5],\n",
    "                                    [0, 0, 0, 0, 0, 0, 0, 0, 0, 0, 0]]\n",
    "\n",
    "amount: int = 500\n",
    "max_iter: int = 500\n",
    "best_max_iter: int = 20\n",
    "mutation_rate = 0.05\n",
    "total_fit: float\n",
    "population: list[Individual]"
   ]
  },
  {
   "cell_type": "code",
   "execution_count": null,
   "metadata": {},
   "outputs": [],
   "source": [
    "for func in range(1, 4):\n",
    "    myLog.info(f\"\"\"Crossover Function {func}\n",
    "=====================================\"\"\")\n",
    "    for i in range(5):\n",
    "        result = alg.max_flow_GA(capacity_matrix, func, pop_size=amount, mutation_rate=mutation_rate,\n",
    "                        max_iter=max_iter, best_max_iter=best_max_iter, logger=None)\n",
    "        best_ind = result['best_of_all_gen']\n",
    "        myLog.info(f\"\"\"RUN {i+1}\n",
    "{best_ind.CheckBalanced()}\n",
    "{alg.col_sum(best_ind.dna, len(best_ind.dna) - 1)}\n",
    "{best_ind.fitness_score}\n",
    "{best_ind}-------------------------------------\"\"\")"
   ]
  },
  {
   "cell_type": "code",
   "execution_count": null,
   "metadata": {},
   "outputs": [],
   "source": [
    "myGraph = nx.DiGraph(graph)\n",
    "edges = alg.generate_edges(graph)\n",
    "result = alg.ford_fulkerson(capacity_matrix)\n",
    "flow = alg.assign_flow(capacity_matrix, result[1])\n",
    "edge_weights = alg.give_edge_weights(edges, flow)\n",
    "\n",
    "pseudo_ind = Individual()\n",
    "pseudo_ind.dna = flow\n",
    "pseudo_ind.fitness(min(sum(capacity_matrix[0]), alg.col_sum(capacity_matrix, len(capacity_matrix) - 1)))\n",
    "print(f\"\"\"Ford-Fulkerson: {result[0]}\n",
    "Fitness: {pseudo_ind.fitness_score}\"\"\")\n",
    "alg.draw_digraph(myGraph, main_node_pos, edges, edge_weights)"
   ]
  }
 ],
 "metadata": {
  "kernelspec": {
   "display_name": "Python 3",
   "language": "python",
   "name": "python3"
  },
  "language_info": {
   "codemirror_mode": {
    "name": "ipython",
    "version": 3
   },
   "file_extension": ".py",
   "mimetype": "text/x-python",
   "name": "python",
   "nbconvert_exporter": "python",
   "pygments_lexer": "ipython3",
   "version": "3.12.1"
  }
 },
 "nbformat": 4,
 "nbformat_minor": 2
}
